{
 "cells": [
  {
   "cell_type": "markdown",
   "id": "215c2575",
   "metadata": {},
   "source": [
    "Email-Id: mhammad42210@gmail.com\\\n",
    "Kaggle-Id: https://www.kaggle.com/hammadali9988779988\\\n",
    "Github-Id: https://github.com/hammadali99418\\\n",
    "Linkedin-Id1: https://www.linkedin.com/in/hammad-ali-ba3040345"
   ]
  },
  {
   "cell_type": "markdown",
   "id": "fa06c679",
   "metadata": {},
   "source": [
    "# Matrix or Matrices"
   ]
  },
  {
   "cell_type": "markdown",
   "id": "e6853886",
   "metadata": {},
   "source": [
    "### Import library"
   ]
  },
  {
   "cell_type": "code",
   "execution_count": 1,
   "id": "23f03281",
   "metadata": {},
   "outputs": [],
   "source": [
    "import numpy as np"
   ]
  },
  {
   "cell_type": "code",
   "execution_count": 3,
   "id": "3cabc207",
   "metadata": {},
   "outputs": [
    {
     "data": {
      "text/plain": [
       "array([[1, 2, 3],\n",
       "       [4, 5, 6]])"
      ]
     },
     "execution_count": 3,
     "metadata": {},
     "output_type": "execute_result"
    }
   ],
   "source": [
    "a = np.array([[1, 2, 3],[4, 5, 6]])\n",
    "a "
   ]
  },
  {
   "cell_type": "code",
   "execution_count": 7,
   "id": "b1691f37",
   "metadata": {},
   "outputs": [
    {
     "data": {
      "text/plain": [
       "array([[ 0,  2,  4,  6,  8, 10, 12, 14, 16, 18],\n",
       "       [20, 22, 24, 26, 28, 30, 32, 34, 36, 38],\n",
       "       [40, 42, 44, 46, 48, 50, 52, 54, 56, 58],\n",
       "       [60, 62, 64, 66, 68, 70, 72, 74, 76, 78],\n",
       "       [80, 82, 84, 86, 88, 90, 92, 94, 96, 98]])"
      ]
     },
     "execution_count": 7,
     "metadata": {},
     "output_type": "execute_result"
    }
   ],
   "source": [
    "# Create a martrix of big dimensions\n",
    "b = np.arange(0,100,2).reshape(5,10)\n",
    "b"
   ]
  },
  {
   "cell_type": "markdown",
   "id": "68aaa701",
   "metadata": {},
   "source": [
    "## slice the matrix"
   ]
  },
  {
   "cell_type": "code",
   "execution_count": null,
   "id": "1272accb",
   "metadata": {},
   "outputs": [
    {
     "data": {
      "text/plain": [
       "array([[26, 28],\n",
       "       [46, 48]])"
      ]
     },
     "execution_count": 11,
     "metadata": {},
     "output_type": "execute_result"
    }
   ],
   "source": [
    "b = np.arange(0,100,2).reshape(5,10)\n",
    "b[1:3, 3:5] # first two rows and first three columns"
   ]
  },
  {
   "cell_type": "code",
   "execution_count": 23,
   "id": "3ca33aaf",
   "metadata": {},
   "outputs": [
    {
     "data": {
      "text/plain": [
       "array([[ 8, 10],\n",
       "       [28, 30],\n",
       "       [48, 50]])"
      ]
     },
     "execution_count": 23,
     "metadata": {},
     "output_type": "execute_result"
    }
   ],
   "source": [
    "# silicing of a matrix 3x2 # 3 rows and 2 columns\n",
    "c = b[0:3,4:6]\n",
    "c"
   ]
  },
  {
   "cell_type": "code",
   "execution_count": 28,
   "id": "875febbf",
   "metadata": {},
   "outputs": [
    {
     "data": {
      "text/plain": [
       "np.int64(98)"
      ]
     },
     "execution_count": 28,
     "metadata": {},
     "output_type": "execute_result"
    }
   ],
   "source": [
    "b.max() # maximum value of the matrix\n",
    "\n",
    "\n"
   ]
  },
  {
   "cell_type": "code",
   "execution_count": 29,
   "id": "47a26737",
   "metadata": {},
   "outputs": [
    {
     "data": {
      "text/plain": [
       "np.int64(0)"
      ]
     },
     "execution_count": 29,
     "metadata": {},
     "output_type": "execute_result"
    }
   ],
   "source": [
    "b.min() # minimum value of the matrix"
   ]
  },
  {
   "cell_type": "code",
   "execution_count": 30,
   "id": "6d524692",
   "metadata": {},
   "outputs": [
    {
     "data": {
      "text/plain": [
       "np.int64(2450)"
      ]
     },
     "execution_count": 30,
     "metadata": {},
     "output_type": "execute_result"
    }
   ],
   "source": [
    "b.sum() # sum of all values in the matrix"
   ]
  },
  {
   "cell_type": "code",
   "execution_count": 31,
   "id": "0caa8780",
   "metadata": {},
   "outputs": [
    {
     "data": {
      "text/plain": [
       "array([ 0,  2,  4,  6,  8, 10, 12, 14, 16, 18])"
      ]
     },
     "execution_count": 31,
     "metadata": {},
     "output_type": "execute_result"
    }
   ],
   "source": [
    "b.min(axis=0) # minimum value of each column"
   ]
  },
  {
   "cell_type": "code",
   "execution_count": 32,
   "id": "aa5a574f",
   "metadata": {},
   "outputs": [
    {
     "data": {
      "text/plain": [
       "array([ 0, 20, 40, 60, 80])"
      ]
     },
     "execution_count": 32,
     "metadata": {},
     "output_type": "execute_result"
    }
   ],
   "source": [
    "b.min(axis=1) # minimum value of each row"
   ]
  },
  {
   "cell_type": "code",
   "execution_count": 33,
   "id": "d074b65a",
   "metadata": {},
   "outputs": [
    {
     "data": {
      "text/plain": [
       "array([[ 0,  2,  4,  6,  8, 10, 12, 14, 16, 18],\n",
       "       [20, 22, 24, 26, 28, 30, 32, 34, 36, 38],\n",
       "       [40, 42, 44, 46, 48, 50, 52, 54, 56, 58],\n",
       "       [60, 62, 64, 66, 68, 70, 72, 74, 76, 78],\n",
       "       [80, 82, 84, 86, 88, 90, 92, 94, 96, 98]])"
      ]
     },
     "execution_count": 33,
     "metadata": {},
     "output_type": "execute_result"
    }
   ],
   "source": [
    "b"
   ]
  },
  {
   "cell_type": "code",
   "execution_count": 34,
   "id": "8fae081f",
   "metadata": {},
   "outputs": [
    {
     "data": {
      "text/plain": [
       "array([80, 82, 84, 86, 88, 90, 92, 94, 96, 98])"
      ]
     },
     "execution_count": 34,
     "metadata": {},
     "output_type": "execute_result"
    }
   ],
   "source": [
    "b.max(axis=0) # maximum value of each column"
   ]
  },
  {
   "cell_type": "code",
   "execution_count": 38,
   "id": "231d87d4",
   "metadata": {},
   "outputs": [
    {
     "data": {
      "text/plain": [
       "array([18, 38, 58, 78, 98])"
      ]
     },
     "execution_count": 38,
     "metadata": {},
     "output_type": "execute_result"
    }
   ],
   "source": [
    "b.max(axis=1) # minimum value of each row"
   ]
  },
  {
   "cell_type": "code",
   "execution_count": 39,
   "id": "807ad958",
   "metadata": {},
   "outputs": [
    {
     "data": {
      "text/plain": [
       "array([[ 0,  2],\n",
       "       [ 4,  6],\n",
       "       [ 8, 10],\n",
       "       [12, 14],\n",
       "       [16, 18]])"
      ]
     },
     "execution_count": 39,
     "metadata": {},
     "output_type": "execute_result"
    }
   ],
   "source": [
    "m = np.arange(0,20,2).reshape(5,2)\n",
    "m"
   ]
  },
  {
   "cell_type": "code",
   "execution_count": 41,
   "id": "ba965eae",
   "metadata": {},
   "outputs": [
    {
     "data": {
      "text/plain": [
       "array([[ 1,  3],\n",
       "       [ 5,  7],\n",
       "       [ 9, 11],\n",
       "       [13, 15],\n",
       "       [17, 19]])"
      ]
     },
     "execution_count": 41,
     "metadata": {},
     "output_type": "execute_result"
    }
   ],
   "source": [
    "add = m + 1 # add 1 to each element of the matrix\n",
    "add"
   ]
  },
  {
   "cell_type": "code",
   "execution_count": 42,
   "id": "0419b624",
   "metadata": {},
   "outputs": [
    {
     "data": {
      "text/plain": [
       "array([[ 5, 12],\n",
       "       [ 9, 16],\n",
       "       [13, 20],\n",
       "       [17, 24],\n",
       "       [21, 28]])"
      ]
     },
     "execution_count": 42,
     "metadata": {},
     "output_type": "execute_result"
    }
   ],
   "source": [
    "m + np.array([5,10]) # add 1 to each element of the matrix"
   ]
  },
  {
   "cell_type": "code",
   "execution_count": 43,
   "id": "09dd1f8c",
   "metadata": {},
   "outputs": [
    {
     "data": {
      "text/plain": [
       "array([[ 0,  2],\n",
       "       [ 4,  6],\n",
       "       [ 8, 10],\n",
       "       [12, 14],\n",
       "       [16, 18],\n",
       "       [25, 30]])"
      ]
     },
     "execution_count": 43,
     "metadata": {},
     "output_type": "execute_result"
    }
   ],
   "source": [
    "np.vstack((m, np.array([25,30]))) # add a new row to the matrix"
   ]
  },
  {
   "cell_type": "code",
   "execution_count": 44,
   "id": "a151ae98",
   "metadata": {},
   "outputs": [
    {
     "data": {
      "text/plain": [
       "array([[ 0,  2,  4,  6,  8, 10, 12, 14, 16, 18],\n",
       "       [20, 22, 24, 26, 28, 30, 32, 34, 36, 38],\n",
       "       [40, 42, 44, 46, 48, 50, 52, 54, 56, 58],\n",
       "       [60, 62, 64, 66, 68, 70, 72, 74, 76, 78],\n",
       "       [80, 82, 84, 86, 88, 90, 92, 94, 96, 98]])"
      ]
     },
     "execution_count": 44,
     "metadata": {},
     "output_type": "execute_result"
    }
   ],
   "source": [
    "b"
   ]
  },
  {
   "cell_type": "markdown",
   "id": "fc8c7d7a",
   "metadata": {},
   "source": [
    "## Reverse an array"
   ]
  },
  {
   "cell_type": "code",
   "execution_count": 45,
   "id": "bde171ca",
   "metadata": {},
   "outputs": [
    {
     "data": {
      "text/plain": [
       "array([[98, 96, 94, 92, 90, 88, 86, 84, 82, 80],\n",
       "       [78, 76, 74, 72, 70, 68, 66, 64, 62, 60],\n",
       "       [58, 56, 54, 52, 50, 48, 46, 44, 42, 40],\n",
       "       [38, 36, 34, 32, 30, 28, 26, 24, 22, 20],\n",
       "       [18, 16, 14, 12, 10,  8,  6,  4,  2,  0]])"
      ]
     },
     "execution_count": 45,
     "metadata": {},
     "output_type": "execute_result"
    }
   ],
   "source": [
    "np.flip(b)"
   ]
  }
 ],
 "metadata": {
  "kernelspec": {
   "display_name": "python_eda",
   "language": "python",
   "name": "python3"
  },
  "language_info": {
   "codemirror_mode": {
    "name": "ipython",
    "version": 3
   },
   "file_extension": ".py",
   "mimetype": "text/x-python",
   "name": "python",
   "nbconvert_exporter": "python",
   "pygments_lexer": "ipython3",
   "version": "3.13.1"
  }
 },
 "nbformat": 4,
 "nbformat_minor": 5
}
